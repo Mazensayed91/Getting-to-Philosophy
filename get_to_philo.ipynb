{
 "cells": [
  {
   "cell_type": "code",
   "execution_count": 1,
   "metadata": {},
   "outputs": [],
   "source": [
    "import bs4\n",
    "import time\n",
    "import urllib\n",
    "import requests\n",
    "\n",
    "url = input()", 
    "url = 'http://en.wikipedia.org/wiki/Special:Random'\n",
    "philo = 'https://en.wikipedia.org/wiki/Philosophy'"
   ]
  },
  {
   "cell_type": "code",
   "execution_count": 2,
   "metadata": {},
   "outputs": [],
   "source": [
    "def find_first_href(url):\n",
    "    \"\"\"\n",
    "    Finding the first link in the body of wiki page that is so called <normal-link>\n",
    "    Knowing that normal links are direct childs of the body of the html page\n",
    "    \n",
    "    \"\"\"\n",
    "    # Package the request, send the request and catch the response: r\n",
    "    r = requests.get(url)\n",
    "\n",
    "    # Extracts the response as html: html_doc\n",
    "    html_doc = r.text\n",
    "\n",
    "    # Create a BeautifulSoup object from the HTML: soup\n",
    "    soup = bs4.BeautifulSoup(html_doc,'html.parser')\n",
    "    \n",
    "    body_content = soup.find(id = \"mw-content-text\") # Div that contains the actual body (without header)\n",
    "    \n",
    "    link_found_flag = 0\n",
    "    \n",
    "    for element in body_content.find_all(\"p\"): #Looping over every direct child pargraph in the body_content\n",
    "        first_direct_child_link = element.find(\"a\",recursive=False)\n",
    "        if first_direct_child_link:\n",
    "            link_found_flag = 1\n",
    "            first_link =  first_direct_child_link.get('href')\n",
    "            if(first_link == None):\n",
    "                print(\"No Wikilinks in the page!\")\n",
    "                return 0\n",
    "            formatted_link =  urllib.parse.urljoin('https://en.wikipedia.org/', first_link)\n",
    "            return formatted_link\n",
    "        \n",
    "    if (not link_found_flag):\n",
    "        print(\"No Wikilinks in the page!\")\n",
    "        return"
   ]
  },
  {
   "cell_type": "code",
   "execution_count": 3,
   "metadata": {},
   "outputs": [
    {
     "data": {
      "text/plain": [
       "'https://en.wikipedia.org/wiki/France'"
      ]
     },
     "execution_count": 3,
     "metadata": {},
     "output_type": "execute_result"
    }
   ],
   "source": [
    "find_first_href(url)"
   ]
  },
  {
   "cell_type": "code",
   "execution_count": 4,
   "metadata": {},
   "outputs": [],
   "source": [
    "def when_to_stop(list_of_links):\n",
    "\n",
    "    \"\"\"\n",
    "    Checking if stopping conditions are satsified.\n",
    "    \n",
    "    \"\"\"\n",
    "    \n",
    "    if(list_of_links[-1] in list_of_links[:-1]):\n",
    "        print(\"Stuck in a loop :/ !\")\n",
    "        return False\n",
    "    \n",
    "    elif(list_of_links[-1] == philo):\n",
    "        print(\"Finally we are in philosophy page!\")\n",
    "        return False\n",
    "    \n",
    "    elif(len(list_of_links) >= 50):\n",
    "        print(\"Try another random page, we've been too long here!\")\n",
    "        return False\n",
    "    \n",
    "    return True"
   ]
  },
  {
   "cell_type": "code",
   "execution_count": 5,
   "metadata": {},
   "outputs": [
    {
     "name": "stdout",
     "output_type": "stream",
     "text": [
      "https://en.wikipedia.org/wiki/Joe_Tex\n",
      "https://en.wikipedia.org/wiki/Southern_soul\n",
      "https://en.wikipedia.org/wiki/Soul_music\n",
      "https://en.wikipedia.org/wiki/Music_genre\n",
      "https://en.wikipedia.org/wiki/Music\n",
      "https://en.wikipedia.org/wiki/The_arts#Music\n",
      "https://en.wikipedia.org/wiki/Creativity\n",
      "https://en.wikipedia.org/wiki/Idea\n",
      "https://en.wikipedia.org/wiki/Philosophy\n",
      "Finally we are in philosophy page!\n"
     ]
    }
   ],
   "source": [
    "links = [url]\n",
    "\n",
    "while when_to_stop(links):\n",
    "\n",
    "    first_link = find_first_href(links[-1])\n",
    "    if(first_link == 0):\n",
    "        break\n",
    "    links.append(first_link)\n",
    "\n",
    "    print(links[-1])\n",
    "    \n",
    "    time.sleep(0.5) # Using a 0.5 second timeout between queries to avoid heavy load on Wikipedia"
   ]
  },
  {
   "cell_type": "code",
   "execution_count": null,
   "metadata": {},
   "outputs": [],
   "source": []
  }
 ],
 "metadata": {
  "kernelspec": {
   "display_name": "Python 3",
   "language": "python",
   "name": "python3"
  },
  "language_info": {
   "codemirror_mode": {
    "name": "ipython",
    "version": 3
   },
   "file_extension": ".py",
   "mimetype": "text/x-python",
   "name": "python",
   "nbconvert_exporter": "python",
   "pygments_lexer": "ipython3",
   "version": "3.7.3"
  }
 },
 "nbformat": 4,
 "nbformat_minor": 2
}
