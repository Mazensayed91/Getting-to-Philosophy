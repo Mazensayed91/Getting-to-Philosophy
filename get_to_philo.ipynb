{
 "cells": [
  {
   "cell_type": "code",
   "execution_count": 1,
   "metadata": {},
   "outputs": [],
   "source": [
    "# Import packages\n",
    "import requests\n",
    "from bs4 import BeautifulSoup\n",
    "import urllib\n",
    "import time\n",
    "\n",
    "# Specify url: url\n",
    "philo = 'https://en.wikipedia.org/wiki/Philosophy'\n",
    "url = 'http://en.wikipedia.org/wiki/Special:Random'\n"
   ]
  },
  {
   "cell_type": "code",
   "execution_count": 2,
   "metadata": {},
   "outputs": [],
   "source": [
    "def get_soup(url):\n",
    "    \"\"\"\n",
    "    Package the request, send the request and catch the response\n",
    "    Extracts the response as html\n",
    "    Create a BeautifulSoup object from the HTML: soup\n",
    "    \n",
    "    \"\"\"\n",
    "    r = requests.get(url)\n",
    "    html_doc = r.text\n",
    "    soup = BeautifulSoup(html_doc)\n",
    "    \n",
    "    return soup\n",
    "\n"
   ]
  },
  {
   "cell_type": "code",
   "execution_count": 3,
   "metadata": {},
   "outputs": [],
   "source": [
    "def remove_brackets_substr(bs4_tag):\n",
    "    \n",
    "    \"\"\"\n",
    "    Didn't perform so well in all wiki links :( \n",
    "    (Under modification)\n",
    "    \"\"\"\n",
    "    to_str = str(bs4_tag)\n",
    "    try:\n",
    "        start = bs4_to_str.index('(')\n",
    "        end = bs4_to_str.index(')')\n",
    "        #Delete the substr between ()\n",
    "        to_str = to_str.replace(to_str[start:end],\"\")\n",
    "\n",
    "        to_bs4 = BeautifulSoup(to_str, 'html.parser')\n",
    "    except:\n",
    "        return bs4_tag\n",
    "    \n",
    "    return to_bs4"
   ]
  },
  ,
  {
   "cell_type": "code",
   "execution_count": 5,
   "metadata": {},
   "outputs": [],
   "source": [
    "def get_first_href(soup):\n",
    "    \n",
    "    \n",
    "    #Find div mw-content-text\n",
    "    s = soup.find('div',id = 'mw-content-text')\n",
    "    #Find div mw-parser-output inside s\n",
    "    table = s.find('div',{\"class\": \"mw-parser-output\"})\n",
    "    #Find direct child p to table\n",
    "    p= table.find_all('p',recursive = False)\n",
    "\n",
    "    links = []\n",
    "    for y in p:\n",
    "        link = (y.find('a',recursive = False))\n",
    "        if \"</i>\" not in str(y):\n",
    "            links.append(link)\n",
    "                \n",
    "    return links\n",
    "\n"
   ]
  },
  {
   "cell_type": "code",
   "execution_count": 6,
   "metadata": {},
   "outputs": [],
   "source": [
    "def validate_first_link(links):\n",
    "    \n",
    "    \"\"\"\n",
    "    Getting the first not 'None' link in the links list.\n",
    "    \n",
    "    \"\"\"\n",
    "    for link in links:\n",
    "        if link != None:\n",
    "            return link.get('href')\n",
    "        \n",
    "        else:\n",
    "            continue\n",
    "        return 0\n",
    "    "
   ]
  },
  {
   "cell_type": "code",
   "execution_count": 7,
   "metadata": {},
   "outputs": [],
   "source": [
    "def construct_url(link):\n",
    "    \"\"\"\n",
    "    Construct valid link\n",
    "    \"\"\"\n",
    "    if link!=0:\n",
    "        return urllib.parse.urljoin('https://en.wikipedia.org/', link)\n",
    "    else:\n",
    "        return 0"
   ]
  },
  {
   "cell_type": "code",
   "execution_count": 8,
   "metadata": {
    "scrolled": true
   },
   "outputs": [
    {
     "name": "stdout",
     "output_type": "stream",
     "text": [
      "https://en.wikipedia.org/wiki/United_States\n",
      "https://en.wikipedia.org/wiki/Contiguous_United_States\n",
      "https://en.wikipedia.org/wiki/U.S._state\n",
      "Stuck in a loop :/ !\n"
     ]
    }
   ],
   "source": [
    "url = 'http://en.wikipedia.org/wiki/Special:Random'\n",
    "\n",
    "clean_urls = []\n",
    "while True:\n",
    "    sp = get_soup(url)\n",
    "    links = get_first_href(sp)\n",
    "    link = validate_first_link(links)\n",
    "    url = construct_url(link)\n",
    "    clean_urls.append(url)\n",
    "    \n",
    "    #Checking stopping conditions\n",
    "    \n",
    "    if url == 'https://en.wikipedia.org/':\n",
    "        print(\"The page doesn't containe wiki links!\")\n",
    "        break\n",
    "    elif url in clean_urls[:-1]:\n",
    "        print('Stuck in a loop :/ !')\n",
    "        break\n",
    "    elif url == philo:\n",
    "        print(url)\n",
    "        print(\"Finally we are in philosophy page!\")\n",
    "        break\n",
    "        \n",
    "    print(url)\n",
    "    time.sleep(0.5)"
   ]
  },
  {
   "cell_type": "code",
   "execution_count": 9,
   "metadata": {},
   "outputs": [
    {
     "name": "stdout",
     "output_type": "stream",
     "text": [
      "https://en.wikipedia.org/wiki/Think_tank\n",
      "https://en.wikipedia.org/wiki/Research_institute\n",
      "https://en.wikipedia.org/wiki/Research\n",
      "https://en.wikipedia.org/wiki/Creativity\n",
      "https://en.wikipedia.org/wiki/Idea\n",
      "https://en.wikipedia.org/wiki/Philosophy\n",
      "Finally we are in philosophy page!\n"
     ]
    }
   ],
   "source": [
    "url = 'http://en.wikipedia.org/wiki/Special:Random'\n",
    "\n",
    "clean_urls = []\n",
    "for i in range(20):\n",
    "    sp = get_soup(url)\n",
    "    links = get_first_href(sp)\n",
    "    link = validate_first_link(links)\n",
    "    url = construct_url(link)\n",
    "    clean_urls.append(url)\n",
    "    \n",
    "    #Checking stopping conditions\n",
    "    \n",
    "    if url == 'https://en.wikipedia.org/':\n",
    "        print(\"The page doesn't containe wiki links!\")\n",
    "        break\n",
    "    elif url in clean_urls[:-1]:\n",
    "        print('Stuck in a loop :/ !')\n",
    "        break\n",
    "    elif url == philo:\n",
    "        print(url)\n",
    "        print(\"Finally we are in philosophy page!\")\n",
    "        break\n",
    "        \n",
    "    print(url)\n",
    "    time.sleep(0.5)"
   ]
  },
  {
   "cell_type": "code",
   "execution_count": 86,
   "metadata": {},
   "outputs": [],
   "source": []
  }
 ],
 "metadata": {
  "kernelspec": {
   "display_name": "Python 3",
   "language": "python",
   "name": "python3"
  },
  "language_info": {
   "codemirror_mode": {
    "name": "ipython",
    "version": 3
   },
   "file_extension": ".py",
   "mimetype": "text/x-python",
   "name": "python",
   "nbconvert_exporter": "python",
   "pygments_lexer": "ipython3",
   "version": "3.7.3"
  }
 },
 "nbformat": 4,
 "nbformat_minor": 2
}
