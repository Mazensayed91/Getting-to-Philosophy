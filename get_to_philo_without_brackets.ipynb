{
 "cells": [
  {
   "cell_type": "code",
   "execution_count": 1,
   "metadata": {},
   "outputs": [],
   "source": [
    "# Import packages\n",
    "import requests\n",
    "from bs4 import BeautifulSoup\n",
    "import urllib\n",
    "import time\n",
    "import re\n",
    "\n",
    "# Specify url: url\n",
    "philo = 'https://en.wikipedia.org/wiki/Philosophy'\n",
    "url = 'http://en.wikipedia.org/wiki/Special:Random'\n"
   ]
  },
  {
   "cell_type": "code",
   "execution_count": 2,
   "metadata": {},
   "outputs": [],
   "source": [
    "def get_soup(url):\n",
    "    \"\"\"\n",
    "    Package the request, send the request and catch the response\n",
    "    Extracts the response as html\n",
    "    Create a BeautifulSoup object from the HTML: soup\n",
    "    \n",
    "    \"\"\"\n",
    "    r = requests.get(url)\n",
    "    html_doc = r.text\n",
    "    soup = BeautifulSoup(html_doc)\n",
    "    \n",
    "    return soup\n",
    "\n"
   ]
  },
  {
   "cell_type": "code",
   "execution_count": 3,
   "metadata": {},
   "outputs": [],
   "source": [
    "def remove_brackets_substr(bs4_tag):\n",
    "    \n",
    "    \"\"\"\n",
    "    Didn't perform so well in all wiki links :( \n",
    "    (Under modification)\n",
    "    \"\"\"\n",
    "    to_str = str(bs4_tag)\n",
    "    try:\n",
    "        \n",
    "        list_of_bad_html = re.findall(r'\\((.*?)\\)',to_str)\n",
    "        for element in list_of_bad_html:\n",
    "            to_str = to_str.replace(element,'')\n",
    "        \n",
    "        list_of_bad_html = re.findall(r\"\\[(.*?)\\]\",to_str)\n",
    "        for element in list_of_bad_html:\n",
    "            to_str = to_str.replace(element,'') \n",
    "                \n",
    "        \n",
    "        #Delete the substr between ()\n",
    "        to_str = to_str.replace(element,\"\")\n",
    "\n",
    "        to_bs4 = BeautifulSoup(to_str, 'html.parser')\n",
    "    except:\n",
    "        return bs4_tag\n",
    "    \n",
    "    return to_bs4.find('p')"
   ]
  },
  {
   "cell_type": "code",
   "execution_count": null,
   "metadata": {},
   "outputs": [],
   "source": []
  },
  {
   "cell_type": "code",
   "execution_count": 4,
   "metadata": {},
   "outputs": [],
   "source": [
    "def get_first_href(soup):\n",
    "    \n",
    "    \n",
    "    #Find div mw-content-text\n",
    "    s = soup.find('div',id = 'mw-content-text')\n",
    "    #Find div mw-parser-output inside s\n",
    "    table = s.find('div',{\"class\": \"mw-parser-output\"})\n",
    "    #Find direct child p to table\n",
    "    if(table == None):\n",
    "        return 0\n",
    "    p= table.find_all('p',recursive = False)\n",
    "\n",
    "    links = []\n",
    "    for y in p:\n",
    "        y = remove_brackets_substr(y)\n",
    "        link = (y.find('a',recursive = False))\n",
    "        if \"</i>\" not in str(link):\n",
    "            links.append(link)\n",
    "                \n",
    "    return links\n",
    "\n"
   ]
  },
  {
   "cell_type": "code",
   "execution_count": 5,
   "metadata": {},
   "outputs": [],
   "source": [
    "def validate_first_link(links):\n",
    "    \n",
    "    \"\"\"\n",
    "    Getting the first not 'None' link in the links list.\n",
    "    \n",
    "    \"\"\"\n",
    "    for link in links:\n",
    "        if link != None:\n",
    "            return link.get('href')\n",
    "        \n",
    "        else:\n",
    "            continue\n",
    "        return 0\n",
    "    "
   ]
  },
  {
   "cell_type": "code",
   "execution_count": 6,
   "metadata": {},
   "outputs": [],
   "source": [
    "def construct_url(link):\n",
    "    \"\"\"\n",
    "    Construct valid link\n",
    "    \"\"\"\n",
    "    if link!=0:\n",
    "        return urllib.parse.urljoin('https://en.wikipedia.org/', link)\n",
    "    else:\n",
    "        return 0"
   ]
  },
  {
   "cell_type": "code",
   "execution_count": 9,
   "metadata": {
    "scrolled": true
   },
   "outputs": [
    {
     "name": "stdout",
     "output_type": "stream",
     "text": [
      "https://en.wikipedia.org/wiki/Polish_government_in_Exile\n",
      "https://en.wikipedia.org/wiki/Government_in_exile\n",
      "https://en.wikipedia.org/wiki/Sovereign_state\n",
      "https://en.wikipedia.org/wiki/International_law\n",
      "https://en.wikipedia.org/wiki/Nation\n",
      "https://en.wikipedia.org/wiki/Community\n",
      "https://en.wikipedia.org/wiki/Social_unit\n",
      "https://en.wikipedia.org/wiki/Social_science\n",
      "https://en.wikipedia.org/wiki/Branches_of_science\n",
      "https://en.wikipedia.org/wiki/Empirical\n",
      "https://en.wikipedia.org/wiki/Information\n",
      "https://en.wikipedia.org/wiki/Uncertainty\n",
      "https://en.wikipedia.org/wiki/Epistemic\n",
      "https://en.wikipedia.org/wiki/James_Frederick_Ferrier\n",
      "https://en.wikipedia.org/wiki/Metaphysics\n",
      "https://en.wikipedia.org/wiki/Philosophy\n",
      "Finally we are in philosophy page!\n"
     ]
    }
   ],
   "source": [
    "url = 'http://en.wikipedia.org/wiki/Special:Random'\n",
    "\n",
    "clean_urls = []\n",
    "while True:\n",
    "    sp = get_soup(url)\n",
    "    links = get_first_href(sp)\n",
    "    if links == 0:\n",
    "        print(\"The page doesn't containe wiki links!\")\n",
    "        break\n",
    "        \n",
    "    link = validate_first_link(links)\n",
    "    url = construct_url(link)\n",
    "    clean_urls.append(url)\n",
    "    \n",
    "    #Checking stopping conditions\n",
    "    \n",
    "    if url == 'https://en.wikipedia.org/':\n",
    "        print(\"The page doesn't containe wiki links!\")\n",
    "        break\n",
    "    elif url in clean_urls[:-1]:\n",
    "        print('Stuck in a loop :/ !')\n",
    "        break\n",
    "    elif url == philo:\n",
    "        print(url)\n",
    "        print(\"Finally we are in philosophy page!\")\n",
    "        break\n",
    "        \n",
    "    print(url)\n",
    "    time.sleep(0.5)"
   ]
  },
  {
   "cell_type": "code",
   "execution_count": 10,
   "metadata": {},
   "outputs": [
    {
     "name": "stdout",
     "output_type": "stream",
     "text": [
      "https://en.wikipedia.org/wiki/Butterfly\n",
      "https://en.wikipedia.org/wiki/Insect\n",
      "https://en.wikipedia.org/wiki/Hexapoda\n",
      "https://en.wikipedia.org/wiki/Arthropod\n",
      "https://en.wikipedia.org/wiki/Invertebrate\n",
      "https://en.wikipedia.org/wiki/Animal\n",
      "https://en.wikipedia.org/wiki/Multicellular\n",
      "https://en.wikipedia.org/wiki/Organism\n",
      "https://en.wikipedia.org/wiki/Biology\n",
      "https://en.wikipedia.org/wiki/Natural_science\n",
      "https://en.wikipedia.org/wiki/Branches_of_science\n",
      "https://en.wikipedia.org/wiki/Empirical\n",
      "https://en.wikipedia.org/wiki/Information\n",
      "https://en.wikipedia.org/wiki/Uncertainty\n",
      "https://en.wikipedia.org/wiki/Epistemic\n",
      "https://en.wikipedia.org/wiki/James_Frederick_Ferrier\n",
      "https://en.wikipedia.org/wiki/Metaphysics\n",
      "https://en.wikipedia.org/wiki/Philosophy\n",
      "Finally we are in philosophy page!\n"
     ]
    }
   ],
   "source": [
    "url = 'http://en.wikipedia.org/wiki/Special:Random'\n",
    "\n",
    "clean_urls = []\n",
    "for i in range(50):\n",
    "    sp = get_soup(url)\n",
    "    links = get_first_href(sp)\n",
    "    link = validate_first_link(links)\n",
    "    url = construct_url(link)\n",
    "    clean_urls.append(url)\n",
    "    \n",
    "    #Checking stopping conditions\n",
    "    \n",
    "    if url == 'https://en.wikipedia.org/':\n",
    "        print(\"The page doesn't containe wiki links!\")\n",
    "        break\n",
    "    elif url in clean_urls[:-1]:\n",
    "        print('Stuck in a loop :/ !')\n",
    "        break\n",
    "    elif url == philo:\n",
    "        print(url)\n",
    "        print(\"Finally we are in philosophy page!\")\n",
    "        break\n",
    "        \n",
    "    print(url)\n",
    "    time.sleep(0.5)"
   ]
  },
  {
   "cell_type": "code",
   "execution_count": null,
   "metadata": {},
   "outputs": [],
   "source": []
  },
  {
   "cell_type": "code",
   "execution_count": null,
   "metadata": {},
   "outputs": [],
   "source": []
  }
 ],
 "metadata": {
  "kernelspec": {
   "display_name": "Python 3",
   "language": "python",
   "name": "python3"
  },
  "language_info": {
   "codemirror_mode": {
    "name": "ipython",
    "version": 3
   },
   "file_extension": ".py",
   "mimetype": "text/x-python",
   "name": "python",
   "nbconvert_exporter": "python",
   "pygments_lexer": "ipython3",
   "version": "3.7.3"
  }
 },
 "nbformat": 4,
 "nbformat_minor": 2
}
